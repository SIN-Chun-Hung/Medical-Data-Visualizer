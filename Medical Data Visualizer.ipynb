{
 "cells": [
  {
   "cell_type": "code",
   "execution_count": 1,
   "id": "9cde4e2e",
   "metadata": {},
   "outputs": [],
   "source": [
    "import pandas as pd\n",
    "import seaborn as sns\n",
    "import matplotlib.pyplot as plt\n",
    "import numpy as np\n",
    "\n",
    "df = pd.read_csv('medical_examination.csv')\n",
    "\n",
    "df['overweight'] = (df['weight'] / ((df['height'] / 100)**2)).apply(lambda x:1 if x > 25 else 0)\n",
    "\n",
    "df['cholesterol'] = df['cholesterol'].apply(lambda x:0 if x == 1 else 1)\n",
    "df['gluc'] = df['gluc'].apply(lambda x:0 if x == 1 else 1)\n",
    "\n",
    "def draw_cat_plot():\n",
    "    df_cat = pd.melt(df, id_vars = ['cardio'], value_vars = ['cholesterol', 'gluc', 'smoke', 'alco', 'active', 'overweight'])\n",
    "\n",
    "    df_cat['total'] = 1\n",
    "    df_cat = df_cat.groupby(['cardio', 'variable', 'value'], as_index=False).count()\n",
    "\n",
    "    fig = sns.catplot(x='variable', y='total', data=df_cat, hue='value', kind='bar', col='cardio').fig\n",
    "\n",
    "    fig.savefig('catplot.png')\n",
    "    return fig\n",
    "\n",
    "\n",
    "def draw_heat_map():\n",
    "  \n",
    "    df_heat = df[\n",
    "        (df['ap_lo'] <= df['ap_hi']) &\n",
    "        (df['height'] >= df['height'].quantile(0.025)) &\n",
    "        (df['height'] <= df['height'].quantile(0.975)) &\n",
    "        (df['weight'] >= df['weight'].quantile(0.025)) &\n",
    "        (df['weight'] <= df['weight'].quantile(0.975))\n",
    "    ]\n",
    "\n",
    "    corr = df_heat.corr(method='pearson')\n",
    "\n",
    "    mask = np.triu(corr)\n",
    "\n",
    "    fig, ax = plt.subplots(figsize=(12,12))\n",
    "\n",
    "    sns.heatmap(corr, linewidths=1, annot=True, square=True, mask=mask, fmt='.1f', center=0.08, cbar_kws={'shrink':0.5})\n",
    "\n",
    "    fig.savefig('heatmap.png')\n",
    "    return fig\n"
   ]
  },
  {
   "cell_type": "code",
   "execution_count": null,
   "id": "d79f9af8",
   "metadata": {},
   "outputs": [],
   "source": []
  }
 ],
 "metadata": {
  "kernelspec": {
   "display_name": "Python 3",
   "language": "python",
   "name": "python3"
  },
  "language_info": {
   "codemirror_mode": {
    "name": "ipython",
    "version": 3
   },
   "file_extension": ".py",
   "mimetype": "text/x-python",
   "name": "python",
   "nbconvert_exporter": "python",
   "pygments_lexer": "ipython3",
   "version": "3.8.8"
  }
 },
 "nbformat": 4,
 "nbformat_minor": 5
}
